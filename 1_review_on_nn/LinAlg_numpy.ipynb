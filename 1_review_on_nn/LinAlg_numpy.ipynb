{
 "cells": [
  {
   "cell_type": "markdown",
   "id": "3d941565",
   "metadata": {},
   "source": [
    "[ことの顛末](https://zenn.dev/k20ku/scraps/979e4465baf634)"
   ]
  },
  {
   "cell_type": "markdown",
   "id": "2f8a4ec6",
   "metadata": {},
   "source": [
    "# Numpyで線形代数の復習"
   ]
  },
  {
   "cell_type": "code",
   "execution_count": 1,
   "id": "5942d4ed",
   "metadata": {},
   "outputs": [],
   "source": [
    "import numpy as np"
   ]
  },
  {
   "cell_type": "code",
   "execution_count": 21,
   "id": "0f4e7076",
   "metadata": {},
   "outputs": [],
   "source": [
    "x = np.array([1, 2, 3])\n",
    "\n",
    "assert x.__class__ == np.ndarray\n",
    "assert x.shape == (3,)\n",
    "assert x.ndim == 1\n",
    "\n",
    "W = np.array([[1, 2, 3], [4, 5, 6]])\n",
    "\n",
    "assert W.shape == (2, 3)\n",
    "assert W.ndim == 2"
   ]
  },
  {
   "cell_type": "code",
   "execution_count": 22,
   "id": "0a9038cf",
   "metadata": {},
   "outputs": [],
   "source": [
    "W = np.array([[1 ,2, 3], [4, 5, 6]])\n",
    "X = np.array([[0, 1, 2], [3, 4, 5]])\n",
    "# 行列和\n",
    "X_plus_Y = np.array([[1+0 ,2+1, 3+2], [4+3, 5+4, 6+5]])\n",
    "# 要素ごと（element-wise） の積\n",
    "X_eltimes_Y = np.array([[1*0 ,2*1, 3*2], [4*3, 5*4, 6*5]])\n",
    "\n",
    "assert np.all(X + W == X_plus_Y)\n",
    "\n",
    "assert np.all(X * W == X_eltimes_Y)"
   ]
  },
  {
   "cell_type": "markdown",
   "id": "abf8979c",
   "metadata": {},
   "source": [
    "## broad cast 機能\n",
    "- broad : 拡張して\n",
    "- cast : 型のキャスト\n",
    "\n",
    "から，Shape を演算に応じて賢く計算される"
   ]
  },
  {
   "cell_type": "code",
   "execution_count": null,
   "id": "eec63680",
   "metadata": {},
   "outputs": [],
   "source": [
    "A = np.array([[1, 2], [3, 4]])\n",
    "# broad cast前\n",
    "b0 = np.array([10, 20])\n",
    "# broad cast後\n",
    "b1 = np.array([[10, 20], [10, 20]])\n",
    "\n",
    "assert np.all(A * b0 == A * b1)"
   ]
  },
  {
   "cell_type": "markdown",
   "id": "6d20ad9a",
   "metadata": {},
   "source": [
    "## 内積・行列積"
   ]
  },
  {
   "cell_type": "code",
   "execution_count": 27,
   "id": "1945eaf1",
   "metadata": {},
   "outputs": [],
   "source": [
    "a = np.array([1, 2, 3])\n",
    "b = np.array([4, 5, 6])\n",
    "a_dot_b = sum([a[i]*b[i] for i in range(0,3)])\n",
    "assert np.dot(a, b) == a_dot_b"
   ]
  },
  {
   "cell_type": "code",
   "execution_count": null,
   "id": "8f6c0bb7",
   "metadata": {},
   "outputs": [],
   "source": [
    "A = np.array(\n",
    "    [[1, 2], \n",
    "     [3, 4]]\n",
    "    )\n",
    "B = np.array(\n",
    "    [[3, 4],\n",
    "     [5, 6]]\n",
    "    )\n",
    "\n",
    "def element_dot(_A, _B, i: int, j: int):\n",
    "    _nrow_A, _ncol_A = _A.shape\n",
    "    _nrow_B, _ncol_B = _B.shape\n",
    "    \n",
    "    if i not in range(_nrow_A):\n",
    "        raise IndexError(f\"index {i} is out of bounds for _A's number of rows with size {_nrow_A}\")\n",
    "    if j not in range(_ncol_B):\n",
    "        raise IndexError(f\"index {j} is out of bounds for _B's number of columns with size {_ncol_B}\")\n",
    "    \n",
    "    # (dot(A, B))_{i, j} = \\sum_{k = 0}^{n-1} a_{i,k} * b_{k, j}\n",
    "    return sum(\n",
    "        [_A[i][k]*_B[k][j] for k in range(_ncol_A)]\n",
    "        )\n",
    "\n",
    "A_dot_B = np.array(\n",
    "    [\n",
    "        [element_dot(A, B, i, j) for j in range(2)] for i in range(2)\n",
    "    ])\n",
    "\n",
    "assert element_dot(A, B, 0, 0) == 1*3 + 2*5\n",
    "assert element_dot(A, B, 1, 0) == 3*3 + 4*5\n",
    "assert np.all(np.dot(A, B) == A_dot_B)\n"
   ]
  }
 ],
 "metadata": {
  "kernelspec": {
   "display_name": "deep-learning2",
   "language": "python",
   "name": "python3"
  },
  "language_info": {
   "codemirror_mode": {
    "name": "ipython",
    "version": 3
   },
   "file_extension": ".py",
   "mimetype": "text/x-python",
   "name": "python",
   "nbconvert_exporter": "python",
   "pygments_lexer": "ipython3",
   "version": "3.12.10"
  }
 },
 "nbformat": 4,
 "nbformat_minor": 5
}
